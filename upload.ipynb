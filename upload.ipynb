{
 "cells": [
  {
   "attachments": {},
   "cell_type": "markdown",
   "metadata": {},
   "source": [
    "https://earthquake.usgs.gov/earthquakes/search/"
   ]
  },
  {
   "cell_type": "code",
   "execution_count": 4,
   "metadata": {},
   "outputs": [],
   "source": [
    "from datetime import datetime, timedelta\n",
    "\n",
    "import matplotlib.pyplot as plt\n",
    "import pandas as pd\n",
    "\n",
    "from parser.app import ClickHouseParser, CsvParser\n",
    "from parser.db import client\n",
    "from parser.repo import handler\n",
    "from parser.repo.driver import create_tables, drop_tables"
   ]
  },
  {
   "cell_type": "code",
   "execution_count": null,
   "metadata": {},
   "outputs": [],
   "source": [
    "year = 1990\n",
    "\n",
    "start = datetime(year,3,6)\n",
    "end = datetime(year,6,15)\n",
    "\n",
    "parser = CsvParser(start, end, 'world', 'World_2000-2023')\n",
    "parser.to_csv()"
   ]
  },
  {
   "attachments": {},
   "cell_type": "markdown",
   "metadata": {},
   "source": [
    "# Работа с таблицами"
   ]
  },
  {
   "cell_type": "code",
   "execution_count": 6,
   "metadata": {},
   "outputs": [],
   "source": [
    "create_tables()"
   ]
  },
  {
   "cell_type": "code",
   "execution_count": 5,
   "metadata": {},
   "outputs": [],
   "source": [
    "drop_tables('quakes_class')"
   ]
  },
  {
   "cell_type": "code",
   "execution_count": 7,
   "metadata": {},
   "outputs": [
    {
     "name": "stdout",
     "output_type": "stream",
     "text": [
      "ip_geo\n",
      "quakes\n",
      "quakes_class\n"
     ]
    }
   ],
   "source": [
    "result = handler.show_tables()\n",
    "print(result)"
   ]
  },
  {
   "attachments": {},
   "cell_type": "markdown",
   "metadata": {},
   "source": [
    "# Загрузка данных в БД"
   ]
  },
  {
   "cell_type": "code",
   "execution_count": null,
   "metadata": {},
   "outputs": [],
   "source": [
    "year = 2018\n",
    "start = datetime(year,1, 1)\n",
    "end = datetime(year, 6, 30)\n",
    "\n",
    "parser = ClickHouseParser(start, end)"
   ]
  },
  {
   "cell_type": "code",
   "execution_count": null,
   "metadata": {},
   "outputs": [],
   "source": [
    "parser.upload_to_bd()"
   ]
  },
  {
   "cell_type": "code",
   "execution_count": null,
   "metadata": {},
   "outputs": [],
   "source": [
    "start = datetime(year, 7, 1)\n",
    "end = datetime(year, 12, 31)\n",
    "parser = ClickHouseParser(start, end)\n",
    "parser.upload_to_bd()"
   ]
  },
  {
   "cell_type": "code",
   "execution_count": null,
   "metadata": {},
   "outputs": [],
   "source": [
    "parser.update_bd()"
   ]
  },
  {
   "cell_type": "code",
   "execution_count": null,
   "metadata": {},
   "outputs": [],
   "source": [
    "tmp_query = client.query_df(\"\"\"\n",
    "SELECT max(Date) as last\n",
    "FROM quakes\n",
    "\"\"\")"
   ]
  },
  {
   "cell_type": "code",
   "execution_count": null,
   "metadata": {},
   "outputs": [],
   "source": [
    "last_datetime = tmp_query['last'].values[0].astype('M8[ms]').astype('O')\n",
    "next_datetime = last_datetime + timedelta(0,1)\n",
    "last_datetime, next_datetime"
   ]
  },
  {
   "attachments": {},
   "cell_type": "markdown",
   "metadata": {},
   "source": [
    "# Извлечение и анализ данных"
   ]
  },
  {
   "cell_type": "code",
   "execution_count": null,
   "metadata": {},
   "outputs": [],
   "source": [
    "tmp_df = client.query_df('SELECT * FROM quakes ORDER BY Date')"
   ]
  },
  {
   "cell_type": "code",
   "execution_count": null,
   "metadata": {},
   "outputs": [],
   "source": [
    "tmp_df.info()"
   ]
  },
  {
   "cell_type": "code",
   "execution_count": null,
   "metadata": {},
   "outputs": [],
   "source": [
    "tmp_df.columns.to_list()[2:]"
   ]
  },
  {
   "cell_type": "code",
   "execution_count": null,
   "metadata": {},
   "outputs": [],
   "source": [
    "spectr = tmp_df.columns.to_list()[2:]\n",
    "dates = tmp_df['Date'].values.tolist()\n",
    "\n",
    "plt.figure(figsize=(19, 5))\n",
    "for col in spectr:\n",
    "    plt.plot(dates, tmp_df[col].values.tolist())\n",
    "plt.show()"
   ]
  },
  {
   "cell_type": "code",
   "execution_count": null,
   "metadata": {},
   "outputs": [],
   "source": [
    "tmp_query = client.query_df(\"\"\"\n",
    "SELECT toDate(Date), count(toDate(Date)), max(Magnitude), min(Magnitude), divide(avg(Mercury_earth_distance), 30)\n",
    "FROM quakes\n",
    "GROUP BY toDate(Date)\n",
    "ORDER BY toDate(Date)\n",
    "\"\"\")"
   ]
  },
  {
   "cell_type": "code",
   "execution_count": null,
   "metadata": {},
   "outputs": [],
   "source": [
    "max_mag = tmp_query['max(Magnitude)'].values.tolist()\n",
    "min_mag = tmp_query['min(Magnitude)'].values.tolist()\n",
    "merc =  tmp_query['divide(avg(Mercury_earth_distance), 30)'].values.tolist()\n",
    "dates = tmp_query['toDate(Date)'].values.tolist()\n",
    "\n",
    "plt.plot(dates, max_mag)\n",
    "plt.plot(dates, min_mag)\n",
    "plt.plot(dates, merc)\n",
    "plt.show()"
   ]
  },
  {
   "attachments": {},
   "cell_type": "markdown",
   "metadata": {},
   "source": [
    "# Нормализация спектра с помощью функций"
   ]
  },
  {
   "cell_type": "code",
   "execution_count": null,
   "metadata": {},
   "outputs": [],
   "source": [
    "from datafactory.normalize import msc, savgol, snv"
   ]
  },
  {
   "cell_type": "code",
   "execution_count": null,
   "metadata": {},
   "outputs": [],
   "source": [
    "def graph_dataset(data_df: pd.DataFrame, snv_arr, msc_arr, savgol_arr):\n",
    "\n",
    "    slice = 0, 1100\n",
    "    chan = 0,150\n",
    "\n",
    "    plt.figure(figsize=(19,8))\n",
    "\n",
    "    plt.subplot(2,2,1)\n",
    "    plt.plot(data_df.values[slice[0]:slice[1], chan[0]:chan[1]])\n",
    "    plt.title('График исходных каналов')\n",
    "    plt.subplot(2,2,2)\n",
    "    plt.plot(snv_arr[slice[0]:slice[1],chan[0]:chan[1]])\n",
    "    plt.title('График каналов после SNV нормализации')\n",
    "    plt.subplot(2,2,3)\n",
    "    plt.plot(msc_arr[slice[0]:slice[1], chan[0]:chan[1]])\n",
    "    plt.title('График каналов после MSC нормализации')\n",
    "    plt.subplot(2,2,4)\n",
    "    plt.plot(savgol_arr[slice[0]:slice[1], chan[0]:chan[1]])\n",
    "    plt.title('График каналов после сглаживания — фильтром Савицкого-Голея')\n",
    "\n",
    "    plt.show()\n",
    "\n",
    "\n",
    "snv_arr = snv(tmp_df.iloc[:, 4:].values)\n",
    "msc_arr = msc(snv_arr)\n",
    "savgol_arr = savgol(msc_arr)\n",
    "graph_dataset(tmp_df.iloc[:, 4:], snv_arr, msc_arr, savgol_arr)"
   ]
  }
 ],
 "metadata": {
  "kernelspec": {
   "display_name": "venv",
   "language": "python",
   "name": "python3"
  },
  "language_info": {
   "codemirror_mode": {
    "name": "ipython",
    "version": 3
   },
   "file_extension": ".py",
   "mimetype": "text/x-python",
   "name": "python",
   "nbconvert_exporter": "python",
   "pygments_lexer": "ipython3",
   "version": "3.10.0"
  },
  "orig_nbformat": 4
 },
 "nbformat": 4,
 "nbformat_minor": 2
}
