{
 "cells": [
  {
   "attachments": {},
   "cell_type": "markdown",
   "metadata": {},
   "source": [
    "https://earthquake.usgs.gov/earthquakes/search/"
   ]
  },
  {
   "cell_type": "code",
   "execution_count": 1,
   "metadata": {},
   "outputs": [],
   "source": [
    "from datetime import datetime\n",
    "\n",
    "from parser.app import CsvParser"
   ]
  },
  {
   "cell_type": "code",
   "execution_count": 2,
   "metadata": {},
   "outputs": [
    {
     "name": "stdout",
     "output_type": "stream",
     "text": [
      "strat (datetime.datetime(2000, 3, 6, 0, 0), datetime.datetime(2000, 12, 31, 0, 0)) period\n",
      "strat (datetime.datetime(2001, 1, 1, 0, 0), datetime.datetime(2001, 12, 31, 0, 0)) period\n",
      "strat (datetime.datetime(2002, 1, 1, 0, 0), datetime.datetime(2002, 12, 31, 0, 0)) period\n",
      "strat (datetime.datetime(2003, 1, 1, 0, 0), datetime.datetime(2003, 12, 31, 0, 0)) period\n",
      "strat (datetime.datetime(2004, 1, 1, 0, 0), datetime.datetime(2004, 12, 31, 0, 0)) period\n",
      "strat (datetime.datetime(2005, 1, 1, 0, 0), datetime.datetime(2005, 12, 31, 0, 0)) period\n",
      "strat (datetime.datetime(2006, 1, 1, 0, 0), datetime.datetime(2006, 12, 31, 0, 0)) period\n",
      "strat (datetime.datetime(2007, 1, 1, 0, 0), datetime.datetime(2007, 12, 31, 0, 0)) period\n",
      "strat (datetime.datetime(2008, 1, 1, 0, 0), datetime.datetime(2008, 12, 31, 0, 0)) period\n",
      "strat (datetime.datetime(2009, 1, 1, 0, 0), datetime.datetime(2009, 12, 31, 0, 0)) period\n",
      "strat (datetime.datetime(2010, 1, 1, 0, 0), datetime.datetime(2010, 12, 31, 0, 0)) period\n",
      "strat (datetime.datetime(2011, 1, 1, 0, 0), datetime.datetime(2011, 12, 31, 0, 0)) period\n",
      "strat (datetime.datetime(2012, 1, 1, 0, 0), datetime.datetime(2012, 12, 31, 0, 0)) period\n",
      "strat (datetime.datetime(2013, 1, 1, 0, 0), datetime.datetime(2013, 12, 31, 0, 0)) period\n",
      "strat (datetime.datetime(2014, 1, 1, 0, 0), datetime.datetime(2014, 12, 31, 0, 0)) period\n",
      "strat (datetime.datetime(2015, 1, 1, 0, 0), datetime.datetime(2015, 12, 31, 0, 0)) period\n",
      "strat (datetime.datetime(2016, 1, 1, 0, 0), datetime.datetime(2016, 12, 31, 0, 0)) period\n",
      "strat (datetime.datetime(2017, 1, 1, 0, 0), datetime.datetime(2017, 12, 31, 0, 0)) period\n",
      "strat (datetime.datetime(2018, 1, 1, 0, 0), datetime.datetime(2018, 12, 31, 0, 0)) period\n",
      "strat (datetime.datetime(2019, 1, 1, 0, 0), datetime.datetime(2019, 12, 31, 0, 0)) period\n",
      "strat (datetime.datetime(2020, 1, 1, 0, 0), datetime.datetime(2020, 12, 31, 0, 0)) period\n",
      "strat (datetime.datetime(2021, 1, 1, 0, 0), datetime.datetime(2021, 12, 31, 0, 0)) period\n",
      "strat (datetime.datetime(2022, 1, 1, 0, 0), datetime.datetime(2022, 12, 31, 0, 0)) period\n",
      "strat (datetime.datetime(2023, 1, 1, 0, 0), datetime.datetime(2023, 6, 15, 0, 0)) period\n"
     ]
    }
   ],
   "source": [
    "start = datetime(2020,3,6)\n",
    "end = datetime(2023,6,15)\n",
    "\n",
    "\n",
    "parser = CsvParser(start, end, 'Russia_2000-2023')\n",
    "parser.to_csv()"
   ]
  }
 ],
 "metadata": {
  "kernelspec": {
   "display_name": "venv",
   "language": "python",
   "name": "python3"
  },
  "language_info": {
   "codemirror_mode": {
    "name": "ipython",
    "version": 3
   },
   "file_extension": ".py",
   "mimetype": "text/x-python",
   "name": "python",
   "nbconvert_exporter": "python",
   "pygments_lexer": "ipython3",
   "version": "3.10.0"
  },
  "orig_nbformat": 4
 },
 "nbformat": 4,
 "nbformat_minor": 2
}
