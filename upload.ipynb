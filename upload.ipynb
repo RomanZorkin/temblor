{
 "cells": [
  {
   "attachments": {},
   "cell_type": "markdown",
   "metadata": {},
   "source": [
    "https://earthquake.usgs.gov/earthquakes/search/"
   ]
  },
  {
   "cell_type": "code",
   "execution_count": 2,
   "metadata": {},
   "outputs": [],
   "source": [
    "from datetime import datetime\n",
    "\n",
    "from parser.app import CsvParser"
   ]
  },
  {
   "cell_type": "code",
   "execution_count": 3,
   "metadata": {},
   "outputs": [
    {
     "name": "stdout",
     "output_type": "stream",
     "text": [
      "start (datetime.datetime(2022, 3, 6, 0, 0), datetime.datetime(2022, 12, 31, 0, 0)) period, with area world\n",
      "2022-03-06 00:00:00 params=RequestParam(format='geojson', starttime='2023-06-18', endtime='2023-06-20', minlatitude='0.0', maxlatitude='81.957', minlongitude='0.0', maxlongitude='190.547', minmagnitude='2.5') timeout=10.0 endpoint='https://earthquake.usgs.gov/fdsnws/event/1/query' {'minlatitude': '0.0', 'maxlatitude': '81.957', 'minlongitude': '0.0', 'maxlongitude': '190.547'}\n",
      "start (datetime.datetime(2023, 1, 1, 0, 0), datetime.datetime(2023, 6, 15, 0, 0)) period, with area world\n",
      "2023-01-01 00:00:00 params=RequestParam(format='geojson', starttime='2023-06-18', endtime='2023-06-20', minlatitude='0.0', maxlatitude='81.957', minlongitude='0.0', maxlongitude='190.547', minmagnitude='2.5') timeout=10.0 endpoint='https://earthquake.usgs.gov/fdsnws/event/1/query' {'minlatitude': '0.0', 'maxlatitude': '81.957', 'minlongitude': '0.0', 'maxlongitude': '190.547'}\n"
     ]
    },
    {
     "data": {
      "text/plain": [
       "True"
      ]
     },
     "execution_count": 3,
     "metadata": {},
     "output_type": "execute_result"
    }
   ],
   "source": [
    "start = datetime(2022,3,6)\n",
    "end = datetime(2023,6,15)\n",
    "\n",
    "\n",
    "parser = CsvParser(start, end, 'world', 'World_2000-2023')\n",
    "parser.to_csv()"
   ]
  }
 ],
 "metadata": {
  "kernelspec": {
   "display_name": "venv",
   "language": "python",
   "name": "python3"
  },
  "language_info": {
   "codemirror_mode": {
    "name": "ipython",
    "version": 3
   },
   "file_extension": ".py",
   "mimetype": "text/x-python",
   "name": "python",
   "nbconvert_exporter": "python",
   "pygments_lexer": "ipython3",
   "version": "3.10.0"
  },
  "orig_nbformat": 4
 },
 "nbformat": 4,
 "nbformat_minor": 2
}
