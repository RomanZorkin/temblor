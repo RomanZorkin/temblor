{
 "cells": [
  {
   "attachments": {},
   "cell_type": "markdown",
   "metadata": {},
   "source": [
    "https://earthquake.usgs.gov/earthquakes/search/"
   ]
  },
  {
   "cell_type": "code",
   "execution_count": 14,
   "metadata": {},
   "outputs": [],
   "source": [
    "import json\n",
    "from datetime import datetime\n",
    "\n",
    "import httpx\n",
    "\n",
    "\n",
    "from parser import config\n",
    "from parser.schemas import QuakeRequest, QuakeRequestList"
   ]
  },
  {
   "cell_type": "code",
   "execution_count": 3,
   "metadata": {},
   "outputs": [],
   "source": [
    "config_app = config.RequestConfig()"
   ]
  },
  {
   "cell_type": "code",
   "execution_count": 4,
   "metadata": {},
   "outputs": [],
   "source": [
    "request = httpx.get(config_app.endpoint, params=config_app.params.dict(), timeout=config_app.timeout)"
   ]
  },
  {
   "cell_type": "code",
   "execution_count": 5,
   "metadata": {},
   "outputs": [
    {
     "data": {
      "text/plain": [
       "URL('https://earthquake.usgs.gov/fdsnws/event/1/query?format=geojson&starttime=2023-06-18&endtime=2023-06-20&minlatitude=41.162&maxlatitude=81.957&minlongitude=19.688&maxlongitude=190.547&minmagnitude=2.5')"
      ]
     },
     "execution_count": 5,
     "metadata": {},
     "output_type": "execute_result"
    }
   ],
   "source": [
    "request.url"
   ]
  },
  {
   "cell_type": "code",
   "execution_count": 5,
   "metadata": {},
   "outputs": [],
   "source": [
    "data = request.json()"
   ]
  },
  {
   "cell_type": "code",
   "execution_count": 6,
   "metadata": {},
   "outputs": [
    {
     "data": {
      "text/plain": [
       "'{\"type\":\"FeatureCollection\",\"metadata\":{\"generated\":1687304078000,\"url\":\"https://earthquake.usgs.gov/fdsnws/event/1/query?format=geojson&starttime=2023-06-18&endtime=2023-06-20&minlatitude=41.162&maxlatitude=81.957&minlongitude=19.688&maxlongitude=190.547&minmagnitude=2.5\",\"title\":\"USGS Earthquakes\",\"status\":200,\"api\":\"1.14.0\",\"count\":5},\"features\":[{\"type\":\"Feature\",\"properties\":{\"mag\":4.1,\"place\":\"1 km E of Cașoca, Romania\",\"time\":1687214700758,\"updated\":1687216014040,\"tz\":null,\"url\":\"https://earthquake.usgs.gov/earthquakes/eventpage/us7000k9ql\",\"detail\":\"https://earthquake.usgs.gov/fdsnws/event/1/query?eventid=us7000k9ql&format=geojson\",\"felt\":null,\"cdi\":null,\"mmi\":null,\"alert\":null,\"status\":\"reviewed\",\"tsunami\":0,\"sig\":259,\"net\":\"us\",\"code\":\"7000k9ql\",\"ids\":\",us7000k9ql,\",\"sources\":\",us,\",\"types\":\",origin,phase-data,\",\"nst\":35,\"dmin\":0.237,\"rms\":1.03,\"gap\":39,\"magType\":\"mb\",\"type\":\"earthquake\",\"title\":\"M 4.1 - 1 km E of Cașoca, Romania\"},\"geometry\":{\"type\":\"Point\",\"coordinates\":[26.282,45.4879,135.849]},\"id\":\"us7000k9ql\"},\\n{\"type\":\"Feature\",\"properties\":{\"mag\":4.9,\"place\":null,\"time\":1687196745369,\"updated\":1687198716040,\"tz\":null,\"url\":\"https://earthquake.usgs.gov/earthquakes/eventpage/us7000k9n3\",\"detail\":\"https://earthquake.usgs.gov/fdsnws/event/1/query?eventid=us7000k9n3&format=geojson\",\"felt\":null,\"cdi\":null,\"mmi\":null,\"alert\":null,\"status\":\"reviewed\",\"tsunami\":0,\"sig\":369,\"net\":\"us\",\"code\":\"7000k9n3\",\"ids\":\",us7000k9n3,\",\"sources\":\",us,\",\"types\":\",origin,phase-data,\",\"nst\":136,\"dmin\":7.157,\"rms\":0.58,\"gap\":135,\"magType\":\"mb\",\"type\":\"earthquake\",\"title\":\"M 4.9 - \"},\"geometry\":{\"type\":\"Point\",\"coordinates\":[153.0898,46.2188,22.43]},\"id\":\"us7000k9n3\"},\\n{\"type\":\"Feature\",\"properties\":{\"mag\":4.8,\"place\":\"Kuril Islands\",\"time\":1687184289394,\"updated\":1687186053040,\"tz\":null,\"url\":\"https://earthquake.usgs.gov/earthquakes/eventpage/us7000k9ks\",\"detail\":\"https://earthquake.usgs.gov/fdsnws/event/1/query?eventid=us7000k9ks&format=geojson\",\"felt\":null,\"cdi\":null,\"mmi\":null,\"alert\":null,\"status\":\"reviewed\",\"tsunami\":0,\"sig\":354,\"net\":\"us\",\"code\":\"7000k9ks\",\"ids\":\",us7000k9ks,\",\"sources\":\",us,\",\"types\":\",origin,phase-data,\",\"nst\":50,\"dmin\":7.223,\"rms\":0.94,\"gap\":93,\"magType\":\"mb\",\"type\":\"earthquake\",\"title\":\"M 4.8 - Kuril Islands\"},\"geometry\":{\"type\":\"Point\",\"coordinates\":[153.1857,46.2139,10]},\"id\":\"us7000k9ks\"},\\n{\"type\":\"Feature\",\"properties\":{\"mag\":4.4,\"place\":\"Kuril Islands\",\"time\":1687177006591,\"updated\":1687182146040,\"tz\":null,\"url\":\"https://earthquake.usgs.gov/earthquakes/eventpage/us7000k9k4\",\"detail\":\"https://earthquake.usgs.gov/fdsnws/event/1/query?eventid=us7000k9k4&format=geojson\",\"felt\":null,\"cdi\":null,\"mmi\":null,\"alert\":null,\"status\":\"reviewed\",\"tsunami\":0,\"sig\":298,\"net\":\"us\",\"code\":\"7000k9k4\",\"ids\":\",us7000k9k4,\",\"sources\":\",us,\",\"types\":\",origin,phase-data,\",\"nst\":40,\"dmin\":7.166,\"rms\":0.79,\"gap\":185,\"magType\":\"mb\",\"type\":\"earthquake\",\"title\":\"M 4.4 - Kuril Islands\"},\"geometry\":{\"type\":\"Point\",\"coordinates\":[153.0962,46.192,10]},\"id\":\"us7000k9k4\"},\\n{\"type\":\"Feature\",\"properties\":{\"mag\":5,\"place\":\"Hokkaido, Japan region\",\"time\":1687150245769,\"updated\":1687187892991,\"tz\":null,\"url\":\"https://earthquake.usgs.gov/earthquakes/eventpage/us7000k9ic\",\"detail\":\"https://earthquake.usgs.gov/fdsnws/event/1/query?eventid=us7000k9ic&format=geojson\",\"felt\":5,\"cdi\":3.1,\"mmi\":null,\"alert\":null,\"status\":\"reviewed\",\"tsunami\":0,\"sig\":386,\"net\":\"us\",\"code\":\"7000k9ic\",\"ids\":\",us7000k9ic,\",\"sources\":\",us,\",\"types\":\",dyfi,origin,phase-data,\",\"nst\":96,\"dmin\":0.543,\"rms\":0.64,\"gap\":100,\"magType\":\"mb\",\"type\":\"earthquake\",\"title\":\"M 5.0 - Hokkaido, Japan region\"},\"geometry\":{\"type\":\"Point\",\"coordinates\":[142.8319,42.5016,72.057]},\"id\":\"us7000k9ic\"}],\"bbox\":[26.282,42.5016,10,153.1857,46.2188,135.849]}'"
      ]
     },
     "execution_count": 6,
     "metadata": {},
     "output_type": "execute_result"
    }
   ],
   "source": [
    "request.text"
   ]
  },
  {
   "cell_type": "code",
   "execution_count": 8,
   "metadata": {},
   "outputs": [
    {
     "data": {
      "text/plain": [
       "5"
      ]
     },
     "execution_count": 8,
     "metadata": {},
     "output_type": "execute_result"
    }
   ],
   "source": [
    "len(data['features'])"
   ]
  },
  {
   "cell_type": "code",
   "execution_count": 21,
   "metadata": {},
   "outputs": [
    {
     "data": {
      "text/plain": [
       "1687214700758"
      ]
     },
     "execution_count": 21,
     "metadata": {},
     "output_type": "execute_result"
    }
   ],
   "source": [
    "row = data['features'][0]\n",
    "time_data = row['properties']['time']\n",
    "time_data"
   ]
  },
  {
   "cell_type": "code",
   "execution_count": 22,
   "metadata": {},
   "outputs": [
    {
     "data": {
      "text/plain": [
       "datetime.datetime(2023, 6, 20, 5, 45)"
      ]
     },
     "execution_count": 22,
     "metadata": {},
     "output_type": "execute_result"
    }
   ],
   "source": [
    "datetime.fromtimestamp(int(time_data/1000))"
   ]
  },
  {
   "cell_type": "code",
   "execution_count": 7,
   "metadata": {},
   "outputs": [],
   "source": [
    "export_list = []\n",
    "for row in data['features']:\n",
    "    export_list.append(\n",
    "        QuakeRequest(\n",
    "            magnitude=row['properties']['mag'],\n",
    "            longitude=row['geometry']['coordinates'][0],\n",
    "            latitude=row['geometry']['coordinates'][1],\n",
    "        )\n",
    "    )"
   ]
  },
  {
   "cell_type": "code",
   "execution_count": 8,
   "metadata": {},
   "outputs": [],
   "source": [
    "quake_list = QuakeRequestList(rows=export_list)"
   ]
  },
  {
   "cell_type": "code",
   "execution_count": 12,
   "metadata": {},
   "outputs": [
    {
     "data": {
      "text/plain": [
       "QuakeRequest(magnitude=4.1, longitude='26.282', latitude='45.4879')"
      ]
     },
     "execution_count": 12,
     "metadata": {},
     "output_type": "execute_result"
    }
   ],
   "source": [
    "quake_list.rows[0]"
   ]
  },
  {
   "cell_type": "code",
   "execution_count": null,
   "metadata": {},
   "outputs": [],
   "source": []
  }
 ],
 "metadata": {
  "kernelspec": {
   "display_name": "venv",
   "language": "python",
   "name": "python3"
  },
  "language_info": {
   "codemirror_mode": {
    "name": "ipython",
    "version": 3
   },
   "file_extension": ".py",
   "mimetype": "text/x-python",
   "name": "python",
   "nbconvert_exporter": "python",
   "pygments_lexer": "ipython3",
   "version": "3.10.0"
  },
  "orig_nbformat": 4
 },
 "nbformat": 4,
 "nbformat_minor": 2
}
