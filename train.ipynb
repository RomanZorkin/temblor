{
 "cells": [
  {
   "cell_type": "code",
   "execution_count": 1,
   "metadata": {},
   "outputs": [],
   "source": [
    "from datetime import datetime\n",
    "from pathlib import Path\n",
    "\n",
    "import joblib\n",
    "import matplotlib.pyplot as plt\n",
    "import numpy as np\n",
    "import pandas as pd\n",
    "\n",
    "from sklearn.linear_model import LassoCV, LinearRegression, RidgeCV, SGDRegressor\n",
    "from sklearn.model_selection import cross_val_score, train_test_split\n",
    "from sklearn.pipeline import Pipeline, make_pipeline\n",
    "from sklearn.preprocessing import PolynomialFeatures, StandardScaler\n",
    "\n",
    "from planet.app import Planet\n",
    "from parser.db import client"
   ]
  },
  {
   "cell_type": "code",
   "execution_count": 2,
   "metadata": {},
   "outputs": [
    {
     "name": "stdout",
     "output_type": "stream",
     "text": [
      "<class 'pandas.core.frame.DataFrame'>\n",
      "RangeIndex: 577034 entries, 0 to 577033\n",
      "Data columns (total 60 columns):\n",
      " #   Column                  Non-Null Count   Dtype        \n",
      "---  ------                  --------------   -----        \n",
      " 0   Magnitude               577034 non-null  float64      \n",
      " 1   Date                    577034 non-null  datetime64[s]\n",
      " 2   Longitude               577034 non-null  float64      \n",
      " 3   Latitude                577034 non-null  float64      \n",
      " 4   Mercury_earth_distance  577034 non-null  float64      \n",
      " 5   Mercury_sun_distance    577034 non-null  float64      \n",
      " 6   Mercury_hlat            577034 non-null  float64      \n",
      " 7   Mercury_hlon            577034 non-null  float64      \n",
      " 8   Mercury_size            577034 non-null  float64      \n",
      " 9   Mercury_radius          577034 non-null  float64      \n",
      " 10  Mercury_a_ra            577034 non-null  float64      \n",
      " 11  Mercury_elong           577034 non-null  float64      \n",
      " 12  Venus_earth_distance    577034 non-null  float64      \n",
      " 13  Venus_sun_distance      577034 non-null  float64      \n",
      " 14  Venus_hlat              577034 non-null  float64      \n",
      " 15  Venus_hlon              577034 non-null  float64      \n",
      " 16  Venus_size              577034 non-null  float64      \n",
      " 17  Venus_radius            577034 non-null  float64      \n",
      " 18  Venus_a_ra              577034 non-null  float64      \n",
      " 19  Venus_elong             577034 non-null  float64      \n",
      " 20  Mars_earth_distance     577034 non-null  float64      \n",
      " 21  Mars_sun_distance       577034 non-null  float64      \n",
      " 22  Mars_hlat               577034 non-null  float64      \n",
      " 23  Mars_hlon               577034 non-null  float64      \n",
      " 24  Mars_size               577034 non-null  float64      \n",
      " 25  Mars_radius             577034 non-null  float64      \n",
      " 26  Mars_a_ra               577034 non-null  float64      \n",
      " 27  Mars_elong              577034 non-null  float64      \n",
      " 28  Jupiter_earth_distance  577034 non-null  float64      \n",
      " 29  Jupiter_sun_distance    577034 non-null  float64      \n",
      " 30  Jupiter_hlat            577034 non-null  float64      \n",
      " 31  Jupiter_hlon            577034 non-null  float64      \n",
      " 32  Jupiter_size            577034 non-null  float64      \n",
      " 33  Jupiter_radius          577034 non-null  float64      \n",
      " 34  Jupiter_a_ra            577034 non-null  float64      \n",
      " 35  Jupiter_elong           577034 non-null  float64      \n",
      " 36  Saturn_earth_distance   577034 non-null  float64      \n",
      " 37  Saturn_sun_distance     577034 non-null  float64      \n",
      " 38  Saturn_hlat             577034 non-null  float64      \n",
      " 39  Saturn_hlon             577034 non-null  float64      \n",
      " 40  Saturn_size             577034 non-null  float64      \n",
      " 41  Saturn_radius           577034 non-null  float64      \n",
      " 42  Saturn_a_ra             577034 non-null  float64      \n",
      " 43  Saturn_elong            577034 non-null  float64      \n",
      " 44  Moon_earth_distance     577034 non-null  float64      \n",
      " 45  Moon_sun_distance       577034 non-null  float64      \n",
      " 46  Moon_hlat               577034 non-null  float64      \n",
      " 47  Moon_hlon               577034 non-null  float64      \n",
      " 48  Moon_size               577034 non-null  float64      \n",
      " 49  Moon_radius             577034 non-null  float64      \n",
      " 50  Moon_a_ra               577034 non-null  float64      \n",
      " 51  Moon_elong              577034 non-null  float64      \n",
      " 52  Sun_earth_distance      577034 non-null  float64      \n",
      " 53  Sun_sun_distance        577034 non-null  float64      \n",
      " 54  Sun_hlat                577034 non-null  float64      \n",
      " 55  Sun_hlon                577034 non-null  float64      \n",
      " 56  Sun_size                577034 non-null  float64      \n",
      " 57  Sun_radius              577034 non-null  float64      \n",
      " 58  Sun_a_ra                577034 non-null  float64      \n",
      " 59  Sun_elong               577034 non-null  float64      \n",
      "dtypes: datetime64[s](1), float64(59)\n",
      "memory usage: 264.1 MB\n"
     ]
    }
   ],
   "source": [
    "quacke_df: pd.DataFrame = client.query_df('SELECT * FROM quakes ORDER BY Date')\n",
    "quacke_df.info()"
   ]
  },
  {
   "cell_type": "code",
   "execution_count": 13,
   "metadata": {},
   "outputs": [],
   "source": [
    "target_column = 'Magnitude'\n",
    "y = quacke_df[target_column]\n",
    "X = quacke_df.drop(['Magnitude', 'Date'], axis=1)\n",
    "\n",
    "X_train, X_test, y_train, y_test = train_test_split(X, y, test_size=0.2, random_state=42)"
   ]
  },
  {
   "cell_type": "code",
   "execution_count": 17,
   "metadata": {},
   "outputs": [],
   "source": [
    "def get_batch_param(X_train: pd.DataFrame, batch_size: int = 50000) -> tuple[int, int]:\n",
    "    \"\"\"\"\n",
    "    Return:\n",
    "        batch_count, df_shape\n",
    "    \"\"\"\n",
    "    dataset_shape = X_train.shape[0]    \n",
    "    batch_count = dataset_shape // batch_size\n",
    "    return batch_count, dataset_shape"
   ]
  },
  {
   "cell_type": "code",
   "execution_count": 14,
   "metadata": {},
   "outputs": [],
   "source": [
    "def fit_with_batches(\n",
    "        model,\n",
    "        X: pd.DataFrame, \n",
    "        y: pd.DataFrame, \n",
    "        batch_size: int, \n",
    "        batch_count: int, \n",
    "        dataset_shape: int\n",
    "    ):\n",
    "    start = 0\n",
    "    for step in range(batch_count):\n",
    "        end = batch_size * (step + 1)\n",
    "        if step == batch_count - 1:\n",
    "            end = dataset_shape        \n",
    "        print(start, end, step+1, batch_size)    \n",
    "        model.fit(X.iloc[start:end], y.iloc[start:end])\n",
    "        start = batch_size * (step + 1) + 1\n",
    "    return model"
   ]
  },
  {
   "cell_type": "code",
   "execution_count": null,
   "metadata": {},
   "outputs": [],
   "source": []
  },
  {
   "cell_type": "code",
   "execution_count": 16,
   "metadata": {},
   "outputs": [
    {
     "name": "stdout",
     "output_type": "stream",
     "text": [
      "0 50000 1 50000\n",
      "50001 100000 2 50000\n",
      "100001 150000 3 50000\n",
      "150001 200000 4 50000\n",
      "200001 250000 5 50000\n",
      "250001 300000 6 50000\n",
      "300001 350000 7 50000\n",
      "350001 400000 8 50000\n",
      "400001 461627 9 50000\n"
     ]
    }
   ],
   "source": [
    "batch_size = 50000\n",
    "batch_count, dataset_shape = get_batch_param(X_train, batch_size)\n",
    "\n",
    "linear_model = Pipeline([('quad', PolynomialFeatures(degree=2)), ('lr', LinearRegression())])\n",
    "linear_model = fit_with_batches(\n",
    "    model=linear_model,\n",
    "    X=X_train,\n",
    "    y=y_train,\n",
    "    batch_size=batch_size,\n",
    "    batch_count=batch_count,\n",
    "    dataset_shape=dataset_shape,\n",
    ")"
   ]
  },
  {
   "cell_type": "code",
   "execution_count": 7,
   "metadata": {},
   "outputs": [],
   "source": [
    "linear_score = cross_val_score(linear_model, X_test, y_test, cv=3)\n",
    "linear_score"
   ]
  },
  {
   "cell_type": "code",
   "execution_count": null,
   "metadata": {},
   "outputs": [],
   "source": [
    "y_lin = linear_model.predict(X_test)"
   ]
  },
  {
   "cell_type": "code",
   "execution_count": null,
   "metadata": {},
   "outputs": [],
   "source": [
    "ridge_model = RidgeCV(alphas=(0.1, 1, 10), cv=20)\n",
    "ridge_model.fit(X_train, y_train)\n"
   ]
  },
  {
   "cell_type": "code",
   "execution_count": null,
   "metadata": {},
   "outputs": [],
   "source": [
    "lasso_model = LassoCV(cv=20)\n",
    "lasso_model.fit(X_train, y_train)"
   ]
  },
  {
   "cell_type": "code",
   "execution_count": null,
   "metadata": {},
   "outputs": [],
   "source": [
    "sgd_model = make_pipeline(StandardScaler(), SGDRegressor(max_iter=200, tol=1e-3))\n",
    "sgd_model.fit(X_train, y_train)"
   ]
  },
  {
   "attachments": {},
   "cell_type": "markdown",
   "metadata": {},
   "source": [
    "### Расчет точности предсказаний"
   ]
  },
  {
   "cell_type": "code",
   "execution_count": null,
   "metadata": {},
   "outputs": [],
   "source": [
    "linear_score = cross_val_score(linear_model, X_test, y_test, cv=3)\n",
    "ridge_score = ridge_model.score(X_test, y_test)\n",
    "lasso_score = lasso_model.score(X_test, y_test)\n",
    "sgd_score = sgd_model.score(X_test, y_test)"
   ]
  },
  {
   "cell_type": "code",
   "execution_count": null,
   "metadata": {},
   "outputs": [],
   "source": [
    "print(linear_score.mean(), ridge_score, lasso_score, sgd_score)"
   ]
  },
  {
   "attachments": {},
   "cell_type": "markdown",
   "metadata": {},
   "source": [
    "Линейная модель показывает хорошую точность только на имеющхся данных, будующие прогнозы крайне неточные (в том числе отрицательные значения)"
   ]
  },
  {
   "cell_type": "code",
   "execution_count": null,
   "metadata": {},
   "outputs": [],
   "source": [
    "y_lin = linear_model.predict(X_test)\n",
    "y_ridge = ridge_model.predict(X_test)\n",
    "y_lasso = lasso_model.predict(X_test)\n",
    "y_sgd = sgd_model.predict(X_test)\n",
    "\n",
    "x = np.arange(1, len(y_test)+1,1)[:100]\n",
    "pic_y_lin = pd.Series(y_lin[:100]).set_axis(x)\n",
    "pic_y_lasso = pd.Series(y_lasso[:100]).set_axis(x)\n",
    "pic_y_test = y_test[:100].set_axis(x)\n",
    "pic_y_ridge = pd.Series(y_ridge[:100]).set_axis(x)\n",
    "pic_y_sgd = pd.Series(y_sgd[:100]).set_axis(x)"
   ]
  },
  {
   "cell_type": "code",
   "execution_count": null,
   "metadata": {},
   "outputs": [],
   "source": [
    "from sklearn.metrics import mean_absolute_error, mean_squared_error, median_absolute_error\n",
    "\n",
    "med_ae = median_absolute_error(y_test, y_ridge)\n",
    "mae = mean_absolute_error(y_test, y_ridge)\n",
    "mse = mean_squared_error(y_test, y_ridge, squared=False)\n",
    "cvs = cross_val_score(ridge_model, X_test, y_test, cv=3).mean() # вероятно этот показатель здесь не нужен, насколько я понимаю он применется на тренировочной или полной выборке\n",
    "message = \"\"\"Коэфициент детерминации - {0},\\n\n",
    "Средняя абсолютная ошибка - {1},\\n\n",
    "Среднее абсолютное отклонение - {2},\\n\n",
    "Среднеквадратичное отклонение - {3},\\n\n",
    "Перекрестная проверка - {4},\\n \n",
    "\"\"\".format(ridge_score, med_ae, mae, mse, cvs)\n",
    "print(message)"
   ]
  },
  {
   "cell_type": "code",
   "execution_count": null,
   "metadata": {},
   "outputs": [],
   "source": [
    "plt.figure(figsize=(20,10))\n",
    "plt.suptitle('График сопоставления результатов обучения моделей по тестовой выборке')\n",
    "\n",
    "plt.bar(x, pic_y_test,label='Реальные данные', color='#AFEEEE')\n",
    "plt.plot(pic_y_lin, '--', color='g', label='Модель LinearReg')\n",
    "plt.plot(pic_y_lasso, '-r', label='Модель LassoCV')\n",
    "plt.plot(pic_y_ridge, '--', color='#4B0082', label='Модель RidgeCV')\n",
    "plt.plot(pic_y_sgd, '--', color='#A27109', label='Модель GDRegr')\n",
    "\n",
    "plt.xlabel('Номер измерения')\n",
    "plt.ylabel('Мощность землятресения (балы)')\n",
    "plt.legend(loc='best')\n",
    "\n",
    "plt.show()"
   ]
  },
  {
   "cell_type": "code",
   "execution_count": null,
   "metadata": {},
   "outputs": [],
   "source": [
    "joblib.dump(linear_model, 'models/linear_model.pkl')\n",
    "joblib.dump(ridge_model, 'models/ridge_model.pkl') \n",
    "joblib.dump(lasso_model, 'models/lasso_model.pkl')\n",
    "joblib.dump(lasso_model, 'models/sgd_model.pkl')"
   ]
  },
  {
   "cell_type": "code",
   "execution_count": null,
   "metadata": {},
   "outputs": [],
   "source": []
  }
 ],
 "metadata": {
  "kernelspec": {
   "display_name": "venv",
   "language": "python",
   "name": "python3"
  },
  "language_info": {
   "codemirror_mode": {
    "name": "ipython",
    "version": 3
   },
   "file_extension": ".py",
   "mimetype": "text/x-python",
   "name": "python",
   "nbconvert_exporter": "python",
   "pygments_lexer": "ipython3",
   "version": "3.10.0"
  },
  "orig_nbformat": 4,
  "vscode": {
   "interpreter": {
    "hash": "2ca19376cbc5e0e32bd8b5813f6d735ccb27cabe3ab52f01365fa658ffe49357"
   }
  }
 },
 "nbformat": 4,
 "nbformat_minor": 2
}
