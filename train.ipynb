{
 "cells": [
  {
   "cell_type": "code",
   "execution_count": 1,
   "metadata": {},
   "outputs": [],
   "source": [
    "from datetime import datetime\n",
    "from pathlib import Path\n",
    "\n",
    "import joblib\n",
    "import matplotlib.pyplot as plt\n",
    "import numpy as np\n",
    "import pandas as pd\n",
    "\n",
    "from sklearn.linear_model import LassoCV, LinearRegression, RidgeCV, SGDRegressor\n",
    "from sklearn.model_selection import cross_val_score, train_test_split\n",
    "from sklearn.pipeline import Pipeline, make_pipeline\n",
    "from sklearn.preprocessing import PolynomialFeatures, StandardScaler\n",
    "\n",
    "from planet.app import Planet"
   ]
  },
  {
   "cell_type": "code",
   "execution_count": 5,
   "metadata": {},
   "outputs": [
    {
     "name": "stderr",
     "output_type": "stream",
     "text": [
      "/tmp/ipykernel_243704/3463654720.py:4: DtypeWarning: Columns (9,10) have mixed types. Specify dtype option on import or set low_memory=False.\n",
      "  quacke_df = pd.read_csv(archive, index_col=False, encoding='windows-1251', sep=';')\n"
     ]
    }
   ],
   "source": [
    "archive = Path('data/export.csv')\n",
    "index = np.arange(0, 160178, 1)  # количество индексов = количеству строк в файле\n",
    "\n",
    "quacke_df = pd.read_csv(archive, index_col=False, encoding='windows-1251', sep=';')\n",
    "\n",
    "non_data = ['Дата', 'Час', 'Мин', 'Сек', 'Ошибка по времени', 'Ошибка по широте', 'Ошибка по долготе', 'Ошибка по глубине', 'Глубина', 'Код сети', 'Сейсмический регион', 'Географический регион', 'Макросейсмические данные']"
   ]
  },
  {
   "cell_type": "code",
   "execution_count": 3,
   "metadata": {},
   "outputs": [],
   "source": [
    "def add_param(frame):\n",
    "    frame['Долгота'] = float(frame['Долгота'].replace(',', '.'))\n",
    "    frame['Широта'] = float(frame['Широта'].replace(',', '.'))\n",
    "    quake_date = datetime.strptime(frame['Дата'], \"%Y/%m/%d\").date()\n",
    "    frame['Магнитуда'] = float(frame['Магнитуда'].replace(',', '.'))\n",
    "    planet = Planet(frame['Долгота'], frame['Широта'], quake_date)\n",
    "\n",
    "    return pd.concat([frame, pd.Series(planet.get_parameters())])"
   ]
  },
  {
   "cell_type": "code",
   "execution_count": 6,
   "metadata": {},
   "outputs": [
    {
     "name": "stdout",
     "output_type": "stream",
     "text": [
      "<class 'pandas.core.frame.DataFrame'>\n",
      "RangeIndex: 160178 entries, 0 to 160177\n",
      "Data columns (total 59 columns):\n",
      " #   Column                  Non-Null Count   Dtype  \n",
      "---  ------                  --------------   -----  \n",
      " 0   Широта                  160178 non-null  float64\n",
      " 1   Долгота                 160178 non-null  float64\n",
      " 2   Магнитуда               160178 non-null  float64\n",
      " 3   Mercury_earth_distance  160178 non-null  float64\n",
      " 4   Mercury_sun_distance    160178 non-null  float64\n",
      " 5   Mercury_hlat            160178 non-null  float64\n",
      " 6   Mercury_hlon            160178 non-null  float64\n",
      " 7   Mercury_size            160178 non-null  float64\n",
      " 8   Mercury_radius          160178 non-null  float64\n",
      " 9   Mercury_a_ra            160178 non-null  float64\n",
      " 10  Mercury_elong           160178 non-null  float64\n",
      " 11  Venus_earth_distance    160178 non-null  float64\n",
      " 12  Venus_sun_distance      160178 non-null  float64\n",
      " 13  Venus_hlat              160178 non-null  float64\n",
      " 14  Venus_hlon              160178 non-null  float64\n",
      " 15  Venus_size              160178 non-null  float64\n",
      " 16  Venus_radius            160178 non-null  float64\n",
      " 17  Venus_a_ra              160178 non-null  float64\n",
      " 18  Venus_elong             160178 non-null  float64\n",
      " 19  Mars_earth_distance     160178 non-null  float64\n",
      " 20  Mars_sun_distance       160178 non-null  float64\n",
      " 21  Mars_hlat               160178 non-null  float64\n",
      " 22  Mars_hlon               160178 non-null  float64\n",
      " 23  Mars_size               160178 non-null  float64\n",
      " 24  Mars_radius             160178 non-null  float64\n",
      " 25  Mars_a_ra               160178 non-null  float64\n",
      " 26  Mars_elong              160178 non-null  float64\n",
      " 27  Jupiter_earth_distance  160178 non-null  float64\n",
      " 28  Jupiter_sun_distance    160178 non-null  float64\n",
      " 29  Jupiter_hlat            160178 non-null  float64\n",
      " 30  Jupiter_hlon            160178 non-null  float64\n",
      " 31  Jupiter_size            160178 non-null  float64\n",
      " 32  Jupiter_radius          160178 non-null  float64\n",
      " 33  Jupiter_a_ra            160178 non-null  float64\n",
      " 34  Jupiter_elong           160178 non-null  float64\n",
      " 35  Saturn_earth_distance   160178 non-null  float64\n",
      " 36  Saturn_sun_distance     160178 non-null  float64\n",
      " 37  Saturn_hlat             160178 non-null  float64\n",
      " 38  Saturn_hlon             160178 non-null  float64\n",
      " 39  Saturn_size             160178 non-null  float64\n",
      " 40  Saturn_radius           160178 non-null  float64\n",
      " 41  Saturn_a_ra             160178 non-null  float64\n",
      " 42  Saturn_elong            160178 non-null  float64\n",
      " 43  Moon_earth_distance     160178 non-null  float64\n",
      " 44  Moon_sun_distance       160178 non-null  float64\n",
      " 45  Moon_hlat               160178 non-null  float64\n",
      " 46  Moon_hlon               160178 non-null  float64\n",
      " 47  Moon_size               160178 non-null  float64\n",
      " 48  Moon_radius             160178 non-null  float64\n",
      " 49  Moon_a_ra               160178 non-null  float64\n",
      " 50  Moon_elong              160178 non-null  float64\n",
      " 51  Sun_earth_distance      160178 non-null  float64\n",
      " 52  Sun_sun_distance        160178 non-null  float64\n",
      " 53  Sun_hlat                160178 non-null  float64\n",
      " 54  Sun_hlon                160178 non-null  float64\n",
      " 55  Sun_size                160178 non-null  float64\n",
      " 56  Sun_radius              160178 non-null  float64\n",
      " 57  Sun_a_ra                160178 non-null  float64\n",
      " 58  Sun_elong               160178 non-null  float64\n",
      "dtypes: float64(59)\n",
      "memory usage: 72.1 MB\n"
     ]
    }
   ],
   "source": [
    "quacke_df = quacke_df.apply(add_param, axis=1)\n",
    "\n",
    "quacke_df = quacke_df.drop(non_data, axis=1)\n",
    "quacke_df = quacke_df.dropna()\n",
    "\n",
    "quacke_df.info()"
   ]
  },
  {
   "cell_type": "code",
   "execution_count": null,
   "metadata": {},
   "outputs": [],
   "source": [
    "target_column = 'Магнитуда'\n",
    "y = quacke_df[target_column]\n",
    "X = quacke_df.drop(target_column, axis=1)\n",
    "\n",
    "X_train, X_test, y_train, y_test = train_test_split(X, y, test_size=0.2, random_state=42)"
   ]
  },
  {
   "cell_type": "code",
   "execution_count": null,
   "metadata": {},
   "outputs": [],
   "source": [
    "linear_model = Pipeline([('quad', PolynomialFeatures(degree=2)), ('lr', LinearRegression())])\n",
    "linear_model.fit(X_train, y_train)\n",
    "\n",
    "ridge_model = RidgeCV(alphas=(0.1, 1, 10), cv=20)\n",
    "ridge_model.fit(X_train, y_train)\n",
    "\n",
    "lasso_model = LassoCV(cv=20)\n",
    "lasso_model.fit(X_train, y_train)\n",
    "\n",
    "sgd_model = make_pipeline(StandardScaler(), SGDRegressor(max_iter=200, tol=1e-3))\n",
    "sgd_model.fit(X_train, y_train)"
   ]
  },
  {
   "attachments": {},
   "cell_type": "markdown",
   "metadata": {},
   "source": [
    "### Расчет точности предсказаний"
   ]
  },
  {
   "cell_type": "code",
   "execution_count": null,
   "metadata": {},
   "outputs": [],
   "source": [
    "linear_score = cross_val_score(linear_model, X_test, y_test, cv=3)\n",
    "ridge_score = ridge_model.score(X_test, y_test)\n",
    "lasso_score = lasso_model.score(X_test, y_test)\n",
    "sgd_score = sgd_model.score(X_test, y_test)"
   ]
  },
  {
   "cell_type": "code",
   "execution_count": null,
   "metadata": {},
   "outputs": [],
   "source": [
    "print(linear_score.mean(), ridge_score, lasso_score, sgd_score)"
   ]
  },
  {
   "attachments": {},
   "cell_type": "markdown",
   "metadata": {},
   "source": [
    "Линейная модель показывает хорошую точность только на имеющхся данных, будующие прогнозы крайне неточные (в том числе отрицательные значения)"
   ]
  },
  {
   "cell_type": "code",
   "execution_count": null,
   "metadata": {},
   "outputs": [],
   "source": [
    "y_lin = linear_model.predict(X_test)\n",
    "y_ridge = ridge_model.predict(X_test)\n",
    "y_lasso = lasso_model.predict(X_test)\n",
    "y_sgd = sgd_model.predict(X_test)\n",
    "\n",
    "x = np.arange(1, len(y_test)+1,1)[:100]\n",
    "pic_y_lin = pd.Series(y_lin[:100]).set_axis(x)\n",
    "pic_y_lasso = pd.Series(y_lasso[:100]).set_axis(x)\n",
    "pic_y_test = y_test[:100].set_axis(x)\n",
    "pic_y_ridge = pd.Series(y_ridge[:100]).set_axis(x)\n",
    "pic_y_sgd = pd.Series(y_sgd[:100]).set_axis(x)"
   ]
  },
  {
   "cell_type": "code",
   "execution_count": null,
   "metadata": {},
   "outputs": [],
   "source": [
    "from sklearn.metrics import mean_absolute_error, mean_squared_error, median_absolute_error\n",
    "\n",
    "med_ae = median_absolute_error(y_test, y_ridge)\n",
    "mae = mean_absolute_error(y_test, y_ridge)\n",
    "mse = mean_squared_error(y_test, y_ridge, squared=False)\n",
    "cvs = cross_val_score(ridge_model, X_test, y_test, cv=3).mean() # вероятно этот показатель здесь не нужен, насколько я понимаю он применется на тренировочной или полной выборке\n",
    "message = \"\"\"Коэфициент детерминации - {0},\\n\n",
    "Средняя абсолютная ошибка - {1},\\n\n",
    "Среднее абсолютное отклонение - {2},\\n\n",
    "Среднеквадратичное отклонение - {3},\\n\n",
    "Перекрестная проверка - {4},\\n \n",
    "\"\"\".format(ridge_score, med_ae, mae, mse, cvs)\n",
    "print(message)"
   ]
  },
  {
   "cell_type": "code",
   "execution_count": null,
   "metadata": {},
   "outputs": [],
   "source": [
    "plt.figure(figsize=(20,10))\n",
    "plt.suptitle('График сопоставления результатов обучения моделей по тестовой выборке')\n",
    "\n",
    "plt.bar(x, pic_y_test,label='Реальные данные', color='#AFEEEE')\n",
    "plt.plot(pic_y_lin, '--', color='g', label='Модель LinearReg')\n",
    "plt.plot(pic_y_lasso, '-r', label='Модель LassoCV')\n",
    "plt.plot(pic_y_ridge, '--', color='#4B0082', label='Модель RidgeCV')\n",
    "plt.plot(pic_y_sgd, '--', color='#A27109', label='Модель GDRegr')\n",
    "\n",
    "plt.xlabel('Номер измерения')\n",
    "plt.ylabel('Мощность землятресения (балы)')\n",
    "plt.legend(loc='best')\n",
    "\n",
    "plt.show()"
   ]
  },
  {
   "cell_type": "code",
   "execution_count": null,
   "metadata": {},
   "outputs": [],
   "source": [
    "joblib.dump(linear_model, 'models/linear_model.pkl')\n",
    "joblib.dump(ridge_model, 'models/ridge_model.pkl') \n",
    "joblib.dump(lasso_model, 'models/lasso_model.pkl')\n",
    "joblib.dump(lasso_model, 'models/sgd_model.pkl')"
   ]
  },
  {
   "cell_type": "code",
   "execution_count": null,
   "metadata": {},
   "outputs": [],
   "source": []
  }
 ],
 "metadata": {
  "kernelspec": {
   "display_name": "venv",
   "language": "python",
   "name": "python3"
  },
  "language_info": {
   "codemirror_mode": {
    "name": "ipython",
    "version": 3
   },
   "file_extension": ".py",
   "mimetype": "text/x-python",
   "name": "python",
   "nbconvert_exporter": "python",
   "pygments_lexer": "ipython3",
   "version": "3.10.0"
  },
  "orig_nbformat": 4,
  "vscode": {
   "interpreter": {
    "hash": "2ca19376cbc5e0e32bd8b5813f6d735ccb27cabe3ab52f01365fa658ffe49357"
   }
  }
 },
 "nbformat": 4,
 "nbformat_minor": 2
}
