{
 "cells": [
  {
   "cell_type": "code",
   "execution_count": 1,
   "metadata": {},
   "outputs": [],
   "source": [
    "import joblib\n",
    "import numpy as np\n",
    "import pandas as pd\n",
    "\n",
    "from planet.app import Planet, Geo"
   ]
  },
  {
   "cell_type": "code",
   "execution_count": 2,
   "metadata": {},
   "outputs": [],
   "source": [
    "model = joblib.load('filename.pkl')"
   ]
  },
  {
   "cell_type": "code",
   "execution_count": 3,
   "metadata": {},
   "outputs": [],
   "source": [
    "def insert_param(frame: pd.Series):\n",
    "    coord = Geo(frame['place']).coord\n",
    "    new_data = pd.Series({        \n",
    "        'Широта': coord['latitude'],\n",
    "        'Долгота': coord['longitude'],        \n",
    "    })\n",
    "\n",
    "    frame = pd.concat([frame, new_data])    \n",
    "    parametrs = Planet(coord['longitude'], coord['latitude'], frame['date']).get_parametrs()\n",
    "    \n",
    "    return pd.concat([frame, pd.Series(parametrs)])\n",
    "\n",
    "def make_frame(place: str, date: str, period: int) -> pd.DataFrame:\n",
    "\n",
    "    frame = pd.DataFrame(\n",
    "        data=pd.date_range(date, periods=period, freq=\"D\").to_list(),\n",
    "        columns=['date']\n",
    "    )\n",
    "    frame['place'] = place\n",
    "    \n",
    "    return frame.apply(insert_param, axis=1)\n",
    "\n",
    "def predict_magnitude(place: str, date: str, period: int):\n",
    "    frame = make_frame(place, date, period)\n",
    "    frame['magnitude'] = model.predict(frame.drop(['date', 'place'], axis=1))\n",
    "    return frame[['date', 'magnitude']]"
   ]
  },
  {
   "cell_type": "code",
   "execution_count": 4,
   "metadata": {},
   "outputs": [],
   "source": [
    "place = 'Barnaul, Russia'\n",
    "date = \"2022-01-01\"  # начальная дата периода\n",
    "period = 10  # длительность периода\n",
    "\n",
    "magnitude_frame = predict_magnitude(place, date, period)"
   ]
  },
  {
   "cell_type": "code",
   "execution_count": 5,
   "metadata": {},
   "outputs": [
    {
     "data": {
      "text/html": [
       "<div>\n",
       "<style scoped>\n",
       "    .dataframe tbody tr th:only-of-type {\n",
       "        vertical-align: middle;\n",
       "    }\n",
       "\n",
       "    .dataframe tbody tr th {\n",
       "        vertical-align: top;\n",
       "    }\n",
       "\n",
       "    .dataframe thead th {\n",
       "        text-align: right;\n",
       "    }\n",
       "</style>\n",
       "<table border=\"1\" class=\"dataframe\">\n",
       "  <thead>\n",
       "    <tr style=\"text-align: right;\">\n",
       "      <th></th>\n",
       "      <th>date</th>\n",
       "      <th>magnitude</th>\n",
       "    </tr>\n",
       "  </thead>\n",
       "  <tbody>\n",
       "    <tr>\n",
       "      <th>0</th>\n",
       "      <td>2022-01-01</td>\n",
       "      <td>2.009390</td>\n",
       "    </tr>\n",
       "    <tr>\n",
       "      <th>1</th>\n",
       "      <td>2022-01-02</td>\n",
       "      <td>2.014516</td>\n",
       "    </tr>\n",
       "    <tr>\n",
       "      <th>2</th>\n",
       "      <td>2022-01-03</td>\n",
       "      <td>2.036781</td>\n",
       "    </tr>\n",
       "    <tr>\n",
       "      <th>3</th>\n",
       "      <td>2022-01-04</td>\n",
       "      <td>2.041011</td>\n",
       "    </tr>\n",
       "    <tr>\n",
       "      <th>4</th>\n",
       "      <td>2022-01-05</td>\n",
       "      <td>2.044411</td>\n",
       "    </tr>\n",
       "    <tr>\n",
       "      <th>5</th>\n",
       "      <td>2022-01-06</td>\n",
       "      <td>2.046760</td>\n",
       "    </tr>\n",
       "    <tr>\n",
       "      <th>6</th>\n",
       "      <td>2022-01-07</td>\n",
       "      <td>2.048087</td>\n",
       "    </tr>\n",
       "    <tr>\n",
       "      <th>7</th>\n",
       "      <td>2022-01-08</td>\n",
       "      <td>2.048557</td>\n",
       "    </tr>\n",
       "    <tr>\n",
       "      <th>8</th>\n",
       "      <td>2022-01-09</td>\n",
       "      <td>2.044103</td>\n",
       "    </tr>\n",
       "    <tr>\n",
       "      <th>9</th>\n",
       "      <td>2022-01-10</td>\n",
       "      <td>2.032866</td>\n",
       "    </tr>\n",
       "  </tbody>\n",
       "</table>\n",
       "</div>"
      ],
      "text/plain": [
       "        date  magnitude\n",
       "0 2022-01-01   2.009390\n",
       "1 2022-01-02   2.014516\n",
       "2 2022-01-03   2.036781\n",
       "3 2022-01-04   2.041011\n",
       "4 2022-01-05   2.044411\n",
       "5 2022-01-06   2.046760\n",
       "6 2022-01-07   2.048087\n",
       "7 2022-01-08   2.048557\n",
       "8 2022-01-09   2.044103\n",
       "9 2022-01-10   2.032866"
      ]
     },
     "execution_count": 5,
     "metadata": {},
     "output_type": "execute_result"
    }
   ],
   "source": [
    "magnitude_frame"
   ]
  },
  {
   "cell_type": "code",
   "execution_count": 6,
   "metadata": {},
   "outputs": [
    {
     "data": {
      "text/html": [
       "<div>\n",
       "<style scoped>\n",
       "    .dataframe tbody tr th:only-of-type {\n",
       "        vertical-align: middle;\n",
       "    }\n",
       "\n",
       "    .dataframe tbody tr th {\n",
       "        vertical-align: top;\n",
       "    }\n",
       "\n",
       "    .dataframe thead th {\n",
       "        text-align: right;\n",
       "    }\n",
       "</style>\n",
       "<table border=\"1\" class=\"dataframe\">\n",
       "  <thead>\n",
       "    <tr style=\"text-align: right;\">\n",
       "      <th></th>\n",
       "      <th>magnitude</th>\n",
       "    </tr>\n",
       "  </thead>\n",
       "  <tbody>\n",
       "    <tr>\n",
       "      <th>count</th>\n",
       "      <td>10.000000</td>\n",
       "    </tr>\n",
       "    <tr>\n",
       "      <th>mean</th>\n",
       "      <td>2.036648</td>\n",
       "    </tr>\n",
       "    <tr>\n",
       "      <th>std</th>\n",
       "      <td>0.013972</td>\n",
       "    </tr>\n",
       "    <tr>\n",
       "      <th>min</th>\n",
       "      <td>2.009390</td>\n",
       "    </tr>\n",
       "    <tr>\n",
       "      <th>25%</th>\n",
       "      <td>2.033844</td>\n",
       "    </tr>\n",
       "    <tr>\n",
       "      <th>50%</th>\n",
       "      <td>2.042557</td>\n",
       "    </tr>\n",
       "    <tr>\n",
       "      <th>75%</th>\n",
       "      <td>2.046173</td>\n",
       "    </tr>\n",
       "    <tr>\n",
       "      <th>max</th>\n",
       "      <td>2.048557</td>\n",
       "    </tr>\n",
       "  </tbody>\n",
       "</table>\n",
       "</div>"
      ],
      "text/plain": [
       "       magnitude\n",
       "count  10.000000\n",
       "mean    2.036648\n",
       "std     0.013972\n",
       "min     2.009390\n",
       "25%     2.033844\n",
       "50%     2.042557\n",
       "75%     2.046173\n",
       "max     2.048557"
      ]
     },
     "execution_count": 6,
     "metadata": {},
     "output_type": "execute_result"
    }
   ],
   "source": [
    "magnitude_frame.describe()"
   ]
  }
 ],
 "metadata": {
  "kernelspec": {
   "display_name": "venv",
   "language": "python",
   "name": "python3"
  },
  "language_info": {
   "codemirror_mode": {
    "name": "ipython",
    "version": 3
   },
   "file_extension": ".py",
   "mimetype": "text/x-python",
   "name": "python",
   "nbconvert_exporter": "python",
   "pygments_lexer": "ipython3",
   "version": "3.10.0"
  },
  "orig_nbformat": 4,
  "vscode": {
   "interpreter": {
    "hash": "2ca19376cbc5e0e32bd8b5813f6d735ccb27cabe3ab52f01365fa658ffe49357"
   }
  }
 },
 "nbformat": 4,
 "nbformat_minor": 2
}
